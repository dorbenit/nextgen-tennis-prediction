{
  "nbformat": 4,
  "nbformat_minor": 0,
  "metadata": {
    "colab": {
      "provenance": [],
      "authorship_tag": "ABX9TyPUV6BQf3yg4YOjTH35/KOh",
      "include_colab_link": true
    },
    "kernelspec": {
      "name": "python3",
      "display_name": "Python 3"
    },
    "language_info": {
      "name": "python"
    }
  },
  "cells": [
    {
      "cell_type": "markdown",
      "metadata": {
        "id": "view-in-github",
        "colab_type": "text"
      },
      "source": [
        "<a href=\"https://colab.research.google.com/github/dorbenit/nextgen-tennis-prediction/blob/main/colab_notebooks/Model_Prediction.ipynb\" target=\"_parent\"><img src=\"https://colab.research.google.com/assets/colab-badge.svg\" alt=\"Open In Colab\"/></a>"
      ]
    },
    {
      "cell_type": "markdown",
      "source": [
        "## Load model Data"
      ],
      "metadata": {
        "id": "8OWwJFPBgzMC"
      }
    },
    {
      "cell_type": "code",
      "execution_count": 1,
      "metadata": {
        "colab": {
          "base_uri": "https://localhost:8080/"
        },
        "id": "srLDF4BDNcLy",
        "outputId": "c3866c28-72af-407d-b1a4-d61380e5fd85"
      },
      "outputs": [
        {
          "output_type": "stream",
          "name": "stdout",
          "text": [
            "<class 'pandas.core.frame.DataFrame'>\n",
            "RangeIndex: 131 entries, 0 to 130\n",
            "Data columns (total 38 columns):\n",
            " #   Column                    Non-Null Count  Dtype  \n",
            "---  ------                    --------------  -----  \n",
            " 0   player_id                 131 non-null    int64  \n",
            " 1   name                      131 non-null    object \n",
            " 2   Entry_Age                 131 non-null    float64\n",
            " 3   Height                    131 non-null    float64\n",
            " 4   reach_sf                  131 non-null    int64  \n",
            " 5   Avg_Win_ace               131 non-null    float64\n",
            " 6   Avg_Win_df                131 non-null    float64\n",
            " 7   Avg_Win_svpt              131 non-null    float64\n",
            " 8   Avg_Win_1stIn             131 non-null    float64\n",
            " 9   Avg_Win_1stWon            131 non-null    float64\n",
            " 10  Avg_Win_2ndWon            131 non-null    float64\n",
            " 11  Avg_Win_SvGms             131 non-null    float64\n",
            " 12  Avg_Win_bpSaved           131 non-null    float64\n",
            " 13  Avg_Win_bpFaced           131 non-null    float64\n",
            " 14  Avg_Win_Minutes           131 non-null    float64\n",
            " 15  Avg_Win_Total_Games       131 non-null    float64\n",
            " 16  Win_1stServePct           131 non-null    float64\n",
            " 17  Win_1stWonPct             131 non-null    float64\n",
            " 18  Win_2ndWonPct             131 non-null    float64\n",
            " 19  Win_bpSavePct             131 non-null    float64\n",
            " 20  Avg_Opponent_Rank_Wins    131 non-null    float64\n",
            " 21  Avg_Loss_ace              131 non-null    float64\n",
            " 22  Avg_Loss_df               131 non-null    float64\n",
            " 23  Avg_Loss_svpt             131 non-null    float64\n",
            " 24  Avg_Loss_1stIn            131 non-null    float64\n",
            " 25  Avg_Loss_1stWon           131 non-null    float64\n",
            " 26  Avg_Loss_2ndWon           131 non-null    float64\n",
            " 27  Avg_Loss_SvGms            131 non-null    float64\n",
            " 28  Avg_Loss_bpSaved          131 non-null    float64\n",
            " 29  Avg_Loss_bpFaced          131 non-null    float64\n",
            " 30  Avg_Loss_Minutes          131 non-null    float64\n",
            " 31  Avg_Loss_Total_Games      131 non-null    float64\n",
            " 32  Loss_1stServePct          131 non-null    float64\n",
            " 33  Loss_1stWonPct            131 non-null    float64\n",
            " 34  Loss_2ndWonPct            131 non-null    float64\n",
            " 35  Loss_bpSavePct            131 non-null    float64\n",
            " 36  Avg_Opponent_Rank_Losses  131 non-null    float64\n",
            " 37  Hand_R                    131 non-null    bool   \n",
            "dtypes: bool(1), float64(34), int64(2), object(1)\n",
            "memory usage: 38.1+ KB\n"
          ]
        }
      ],
      "source": [
        "import pandas as pd\n",
        "\n",
        "# Defining the file path for the dataset\n",
        "file_path = 'df_model_clean.csv'\n",
        "\n",
        "# Reading the CSV file into a pandas DataFrame\n",
        "df = pd.read_csv(file_path)\n",
        "df.info()"
      ]
    },
    {
      "cell_type": "markdown",
      "source": [],
      "metadata": {
        "id": "c_KcK33Yccms"
      }
    },
    {
      "cell_type": "markdown",
      "source": [
        "##Initial testing of the model"
      ],
      "metadata": {
        "id": "MTTvnXB4f1kx"
      }
    },
    {
      "cell_type": "code",
      "source": [
        "\n",
        "import pandas as pd\n",
        "from sklearn.model_selection import train_test_split\n",
        "from sklearn.preprocessing import StandardScaler\n",
        "from sklearn.linear_model import LogisticRegression\n",
        "from sklearn.metrics import classification_report, confusion_matrix, roc_auc_score\n",
        "\n",
        "# Load cleaned data from CSV\n",
        "df_model_clean = pd.read_csv('df_model_clean.csv')\n",
        "\n",
        "# Define features and label\n",
        "X = df_model_clean.drop(columns=['player_id', 'name', 'reach_sf'])\n",
        "y = df_model_clean['reach_sf']\n",
        "\n",
        "# Scale features\n",
        "scaler = StandardScaler()\n",
        "X_scaled = scaler.fit_transform(X)\n",
        "\n",
        "# Split into train and test\n",
        "X_train, X_test, y_train, y_test = train_test_split(\n",
        "    X_scaled, y, test_size=0.2, random_state=42, stratify=y\n",
        ")\n",
        "\n",
        "# Train logistic regression model\n",
        "model = LogisticRegression()\n",
        "model.fit(X_train, y_train)\n",
        "\n",
        "# Predict\n",
        "y_pred = model.predict(X_test)\n",
        "y_prob = model.predict_proba(X_test)[:, 1]\n",
        "\n",
        "# Evaluation\n",
        "print(\"Confusion Matrix:\")\n",
        "print(confusion_matrix(y_test, y_pred))\n",
        "\n",
        "print(\"Classification Report:\")\n",
        "print(classification_report(y_test, y_pred))\n",
        "\n",
        "print(\"ROC AUC Score:\", roc_auc_score(y_test, y_prob))\n"
      ],
      "metadata": {
        "colab": {
          "base_uri": "https://localhost:8080/"
        },
        "id": "lMlGP73_NyKn",
        "outputId": "43f31d33-1c7c-46a3-9b88-6be7dd252789"
      },
      "execution_count": 2,
      "outputs": [
        {
          "output_type": "stream",
          "name": "stdout",
          "text": [
            "Confusion Matrix:\n",
            "[[18  2]\n",
            " [ 1  6]]\n",
            "Classification Report:\n",
            "              precision    recall  f1-score   support\n",
            "\n",
            "           0       0.95      0.90      0.92        20\n",
            "           1       0.75      0.86      0.80         7\n",
            "\n",
            "    accuracy                           0.89        27\n",
            "   macro avg       0.85      0.88      0.86        27\n",
            "weighted avg       0.90      0.89      0.89        27\n",
            "\n",
            "ROC AUC Score: 0.9785714285714286\n"
          ]
        }
      ]
    },
    {
      "cell_type": "markdown",
      "source": [
        "##Testing the model with smote to check for imbalance"
      ],
      "metadata": {
        "id": "MY35lXdKf5pe"
      }
    },
    {
      "cell_type": "code",
      "source": [
        "import pandas as pd\n",
        "from sklearn.model_selection import train_test_split\n",
        "from sklearn.preprocessing import StandardScaler\n",
        "from sklearn.linear_model import LogisticRegression\n",
        "from sklearn.metrics import classification_report, confusion_matrix, roc_auc_score\n",
        "from imblearn.over_sampling import SMOTE\n",
        "\n",
        "# Load the cleaned dataset\n",
        "df_model_clean = pd.read_csv('df_model_clean.csv')\n",
        "\n",
        "# Define features and label\n",
        "X = df_model_clean.drop(columns=['player_id', 'name', 'reach_sf'])\n",
        "y = df_model_clean['reach_sf']\n",
        "\n",
        "# Scale features\n",
        "scaler = StandardScaler()\n",
        "X_scaled = scaler.fit_transform(X)\n",
        "\n",
        "# Train/test split\n",
        "X_train, X_test, y_train, y_test = train_test_split(\n",
        "    X_scaled, y, test_size=0.2, random_state=42, stratify=y\n",
        ")\n",
        "\n",
        "# Apply SMOTE only on training data\n",
        "smote = SMOTE(random_state=42)\n",
        "X_train_smote, y_train_smote = smote.fit_resample(X_train, y_train)\n",
        "\n",
        "# Train logistic regression model\n",
        "model = LogisticRegression()\n",
        "model.fit(X_train_smote, y_train_smote)\n",
        "\n",
        "# Predict\n",
        "y_pred = model.predict(X_test)\n",
        "y_prob = model.predict_proba(X_test)[:, 1]\n",
        "\n",
        "# Evaluation\n",
        "print(\"Confusion Matrix:\")\n",
        "print(confusion_matrix(y_test, y_pred))\n",
        "\n",
        "print(\"\\n Classification Report:\")\n",
        "print(classification_report(y_test, y_pred))\n",
        "\n",
        "print(\"ROC AUC Score:\", roc_auc_score(y_test, y_prob))\n"
      ],
      "metadata": {
        "colab": {
          "base_uri": "https://localhost:8080/"
        },
        "id": "RRyCFec_ORdf",
        "outputId": "46cd14a5-b642-49b3-fa46-37f136df7d08"
      },
      "execution_count": 3,
      "outputs": [
        {
          "output_type": "stream",
          "name": "stdout",
          "text": [
            "Confusion Matrix:\n",
            "[[17  3]\n",
            " [ 0  7]]\n",
            "\n",
            " Classification Report:\n",
            "              precision    recall  f1-score   support\n",
            "\n",
            "           0       1.00      0.85      0.92        20\n",
            "           1       0.70      1.00      0.82         7\n",
            "\n",
            "    accuracy                           0.89        27\n",
            "   macro avg       0.85      0.93      0.87        27\n",
            "weighted avg       0.92      0.89      0.89        27\n",
            "\n",
            "ROC AUC Score: 0.9714285714285714\n"
          ]
        }
      ]
    },
    {
      "cell_type": "markdown",
      "source": [],
      "metadata": {
        "id": "QgoJfJXwgIO3"
      }
    },
    {
      "cell_type": "markdown",
      "source": [
        "##Precision vs Reacall"
      ],
      "metadata": {
        "id": "wGbGBkGPgWHV"
      }
    },
    {
      "cell_type": "code",
      "source": [
        "import matplotlib.pyplot as plt\n",
        "from sklearn.metrics import precision_recall_curve, average_precision_score\n",
        "\n",
        "y_prob = model.predict_proba(X_test)[:, 1]\n",
        "\n",
        "precision, recall, thresholds = precision_recall_curve(y_test, y_prob)\n",
        "average_precision = average_precision_score(y_test, y_prob)\n",
        "\n",
        "plt.figure(figsize=(8, 6))\n",
        "plt.plot(thresholds, precision[:-1], label=\"Precision\")\n",
        "plt.plot(thresholds, recall[:-1], label=\"Recall\")\n",
        "plt.xlabel(\"Threshold\")\n",
        "plt.ylabel(\"Score\")\n",
        "plt.title(f\"Precision-Recall vs Threshold (AP = {average_precision:.2f})\")\n",
        "plt.legend()\n",
        "plt.grid(True)\n",
        "plt.show()\n"
      ],
      "metadata": {
        "colab": {
          "base_uri": "https://localhost:8080/",
          "height": 564
        },
        "id": "p1mRQOX4OzXG",
        "outputId": "f6a98973-5948-493a-ef0a-ad2451ee3a96"
      },
      "execution_count": 4,
      "outputs": [
        {
          "output_type": "display_data",
          "data": {
            "text/plain": [
              "<Figure size 800x600 with 1 Axes>"
            ],
            "image/png": "[encoded data removed]"
          },
          "metadata": {}
        }
      ]
    },
    {
      "cell_type": "markdown",
      "source": [
        "##Training with different classification models"
      ],
      "metadata": {
        "id": "wIqoDEXbggTw"
      }
    },
    {
      "cell_type": "code",
      "source": [
        "import pandas as pd\n",
        "from sklearn.model_selection import train_test_split\n",
        "from sklearn.preprocessing import StandardScaler\n",
        "from sklearn.metrics import classification_report, confusion_matrix, roc_auc_score\n",
        "from imblearn.over_sampling import SMOTE\n",
        "\n",
        "from sklearn.linear_model import LogisticRegression\n",
        "from sklearn.ensemble import RandomForestClassifier\n",
        "from xgboost import XGBClassifier\n",
        "\n",
        "# Load cleaned and preprocessed data\n",
        "df = pd.read_csv(\"df_model_clean.csv\")\n",
        "\n",
        "# Drop non-numeric or identifier columns\n",
        "X = df.drop(columns=['reach_sf', 'player_id', 'name'])\n",
        "y = df['reach_sf']\n",
        "\n",
        "# Scale features\n",
        "scaler = StandardScaler()\n",
        "X_scaled = scaler.fit_transform(X)\n",
        "\n",
        "# Train-test split\n",
        "X_train, X_test, y_train, y_test = train_test_split(X_scaled, y, stratify=y, test_size=0.2, random_state=42)\n",
        "\n",
        "# Apply SMOTE\n",
        "smote = SMOTE(random_state=42)\n",
        "X_train_smote, y_train_smote = smote.fit_resample(X_train, y_train)\n",
        "\n",
        "# Define models\n",
        "models = {\n",
        "    \"Logistic Regression\": LogisticRegression(),\n",
        "    \"Random Forest\": RandomForestClassifier(random_state=42),\n",
        "    \"XGBoost\": XGBClassifier(use_label_encoder=False, eval_metric='logloss', random_state=42)\n",
        "}\n",
        "\n",
        "# Train & evaluate\n",
        "for name, model in models.items():\n",
        "    print(f\"\\n Model: {name}\")\n",
        "    model.fit(X_train_smote, y_train_smote)\n",
        "    y_pred = model.predict(X_test)\n",
        "    y_prob = model.predict_proba(X_test)[:, 1]\n",
        "\n",
        "    print(\"Confusion Matrix:\")\n",
        "    print(confusion_matrix(y_test, y_pred))\n",
        "\n",
        "    print(\"\\nClassification Report:\")\n",
        "    print(classification_report(y_test, y_pred))\n",
        "\n",
        "    print(\"ROC AUC Score:\", roc_auc_score(y_test, y_prob))\n"
      ],
      "metadata": {
        "colab": {
          "base_uri": "https://localhost:8080/"
        },
        "id": "2p8ncPCvQW09",
        "outputId": "c732e78e-dda6-4a52-dd95-016689923192"
      },
      "execution_count": 5,
      "outputs": [
        {
          "output_type": "stream",
          "name": "stdout",
          "text": [
            "\n",
            " Model: Logistic Regression\n",
            "Confusion Matrix:\n",
            "[[17  3]\n",
            " [ 0  7]]\n",
            "\n",
            "Classification Report:\n",
            "              precision    recall  f1-score   support\n",
            "\n",
            "           0       1.00      0.85      0.92        20\n",
            "           1       0.70      1.00      0.82         7\n",
            "\n",
            "    accuracy                           0.89        27\n",
            "   macro avg       0.85      0.93      0.87        27\n",
            "weighted avg       0.92      0.89      0.89        27\n",
            "\n",
            "ROC AUC Score: 0.9714285714285714\n",
            "\n",
            " Model: Random Forest\n",
            "Confusion Matrix:\n",
            "[[17  3]\n",
            " [ 1  6]]\n",
            "\n",
            "Classification Report:\n",
            "              precision    recall  f1-score   support\n",
            "\n",
            "           0       0.94      0.85      0.89        20\n",
            "           1       0.67      0.86      0.75         7\n",
            "\n",
            "    accuracy                           0.85        27\n",
            "   macro avg       0.81      0.85      0.82        27\n",
            "weighted avg       0.87      0.85      0.86        27\n",
            "\n",
            "ROC AUC Score: 0.8857142857142858\n",
            "\n",
            " Model: XGBoost\n",
            "Confusion Matrix:\n",
            "[[18  2]\n",
            " [ 0  7]]\n",
            "\n",
            "Classification Report:\n",
            "              precision    recall  f1-score   support\n",
            "\n",
            "           0       1.00      0.90      0.95        20\n",
            "           1       0.78      1.00      0.88         7\n",
            "\n",
            "    accuracy                           0.93        27\n",
            "   macro avg       0.89      0.95      0.91        27\n",
            "weighted avg       0.94      0.93      0.93        27\n",
            "\n",
            "ROC AUC Score: 0.9214285714285715\n"
          ]
        },
        {
          "output_type": "stream",
          "name": "stderr",
          "text": [
            "/usr/local/lib/python3.11/dist-packages/xgboost/core.py:158: UserWarning: [11:59:41] WARNING: /workspace/src/learner.cc:740: \n",
            "Parameters: { \"use_label_encoder\" } are not used.\n",
            "\n",
            "  warnings.warn(smsg, UserWarning)\n"
          ]
        }
      ]
    },
    {
      "cell_type": "code",
      "source": [
        "import pandas as pd\n",
        "from sklearn.model_selection import train_test_split, GridSearchCV\n",
        "from sklearn.ensemble import RandomForestClassifier\n",
        "from sklearn.preprocessing import StandardScaler\n",
        "from sklearn.metrics import classification_report, confusion_matrix, roc_auc_score\n",
        "from imblearn.over_sampling import SMOTE\n",
        "\n",
        "# Load cleaned dataset\n",
        "df = pd.read_csv('df_model_clean.csv')\n",
        "\n",
        "# Drop identifier/text columns\n",
        "X = df.drop(columns=['reach_sf', 'name', 'player_id'], errors='ignore')  # ignore in case one doesn't exist\n",
        "y = df['reach_sf']\n",
        "\n",
        "# Scale features\n",
        "scaler = StandardScaler()\n",
        "X_scaled = scaler.fit_transform(X)\n",
        "\n",
        "# Train-test split\n",
        "X_train, X_test, y_train, y_test = train_test_split(\n",
        "    X_scaled, y, test_size=0.2, random_state=42, stratify=y\n",
        ")\n",
        "\n",
        "# Apply SMOTE\n",
        "smote = SMOTE(random_state=42)\n",
        "X_train_smote, y_train_smote = smote.fit_resample(X_train, y_train)\n",
        "\n",
        "# Grid search for Random Forest\n",
        "param_grid = {\n",
        "    'n_estimators': [50, 100, 200],\n",
        "    'max_depth': [None, 5, 10],\n",
        "    'max_features': ['sqrt', 'log2']\n",
        "}\n",
        "\n",
        "grid_search = GridSearchCV(\n",
        "    RandomForestClassifier(random_state=42),\n",
        "    param_grid,\n",
        "    cv=5,\n",
        "    scoring='roc_auc',\n",
        "    n_jobs=-1\n",
        ")\n",
        "\n",
        "grid_search.fit(X_train_smote, y_train_smote)\n",
        "\n",
        "# Best model\n",
        "best_rf = grid_search.best_estimator_\n",
        "y_pred = best_rf.predict(X_test)\n",
        "y_prob = best_rf.predict_proba(X_test)[:, 1]\n",
        "\n",
        "# Evaluation\n",
        "print(\" Best Parameters:\", grid_search.best_params_)\n",
        "print(\"\\n Confusion Matrix:\")\n",
        "print(confusion_matrix(y_test, y_pred))\n",
        "print(\"\\n Classification Report:\")\n",
        "print(classification_report(y_test, y_pred))\n",
        "print(\" ROC AUC Score:\", roc_auc_score(y_test, y_prob))"
      ],
      "metadata": {
        "colab": {
          "base_uri": "https://localhost:8080/"
        },
        "id": "yRw44U8VTcLw",
        "outputId": "b49a419b-d6e9-4317-8b51-7d991f9382ff"
      },
      "execution_count": 6,
      "outputs": [
        {
          "output_type": "stream",
          "name": "stdout",
          "text": [
            " Best Parameters: {'max_depth': 10, 'max_features': 'sqrt', 'n_estimators': 100}\n",
            "\n",
            " Confusion Matrix:\n",
            "[[17  3]\n",
            " [ 1  6]]\n",
            "\n",
            " Classification Report:\n",
            "              precision    recall  f1-score   support\n",
            "\n",
            "           0       0.94      0.85      0.89        20\n",
            "           1       0.67      0.86      0.75         7\n",
            "\n",
            "    accuracy                           0.85        27\n",
            "   macro avg       0.81      0.85      0.82        27\n",
            "weighted avg       0.87      0.85      0.86        27\n",
            "\n",
            " ROC AUC Score: 0.8857142857142858\n"
          ]
        }
      ]
    }
  ]
}